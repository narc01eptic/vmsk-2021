{
  "nbformat": 4,
  "nbformat_minor": 0,
  "metadata": {
    "colab": {
      "name": "ecg_analysis.ipynb",
      "provenance": [],
      "authorship_tag": "ABX9TyNfq1Lwp1zh5SUqrza6yTz+",
      "include_colab_link": true
    },
    "kernelspec": {
      "name": "python3",
      "display_name": "Python 3"
    },
    "language_info": {
      "name": "python"
    },
    "widgets": {
      "application/vnd.jupyter.widget-state+json": {
        "f15961ca050d4fee9dc31739dce03d7d": {
          "model_module": "@jupyter-widgets/controls",
          "model_name": "HBoxModel",
          "state": {
            "_view_name": "HBoxView",
            "_dom_classes": [],
            "_model_name": "HBoxModel",
            "_view_module": "@jupyter-widgets/controls",
            "_model_module_version": "1.5.0",
            "_view_count": null,
            "_view_module_version": "1.5.0",
            "box_style": "",
            "layout": "IPY_MODEL_d7122748481d40009387d68c9e390f6f",
            "_model_module": "@jupyter-widgets/controls",
            "children": [
              "IPY_MODEL_dcdc43e1aab9429cac59b62e5d829047",
              "IPY_MODEL_d655ea590bdd46e2b94c50a638103d4c"
            ]
          }
        },
        "d7122748481d40009387d68c9e390f6f": {
          "model_module": "@jupyter-widgets/base",
          "model_name": "LayoutModel",
          "state": {
            "_view_name": "LayoutView",
            "grid_template_rows": null,
            "right": null,
            "justify_content": null,
            "_view_module": "@jupyter-widgets/base",
            "overflow": null,
            "_model_module_version": "1.2.0",
            "_view_count": null,
            "flex_flow": null,
            "width": null,
            "min_width": null,
            "border": null,
            "align_items": null,
            "bottom": null,
            "_model_module": "@jupyter-widgets/base",
            "top": null,
            "grid_column": null,
            "overflow_y": null,
            "overflow_x": null,
            "grid_auto_flow": null,
            "grid_area": null,
            "grid_template_columns": null,
            "flex": null,
            "_model_name": "LayoutModel",
            "justify_items": null,
            "grid_row": null,
            "max_height": null,
            "align_content": null,
            "visibility": null,
            "align_self": null,
            "height": null,
            "min_height": null,
            "padding": null,
            "grid_auto_rows": null,
            "grid_gap": null,
            "max_width": null,
            "order": null,
            "_view_module_version": "1.2.0",
            "grid_template_areas": null,
            "object_position": null,
            "object_fit": null,
            "grid_auto_columns": null,
            "margin": null,
            "display": null,
            "left": null
          }
        },
        "dcdc43e1aab9429cac59b62e5d829047": {
          "model_module": "@jupyter-widgets/controls",
          "model_name": "FloatProgressModel",
          "state": {
            "_view_name": "ProgressView",
            "style": "IPY_MODEL_3b1812efc71449cd8b334be476dfbc60",
            "_dom_classes": [],
            "description": "Optimization Progress: 100%",
            "_model_name": "FloatProgressModel",
            "bar_style": "",
            "max": 30,
            "_view_module": "@jupyter-widgets/controls",
            "_model_module_version": "1.5.0",
            "value": 30,
            "_view_count": null,
            "_view_module_version": "1.5.0",
            "orientation": "horizontal",
            "min": 0,
            "description_tooltip": null,
            "_model_module": "@jupyter-widgets/controls",
            "layout": "IPY_MODEL_caa7eb3c90f44632a99cf88e7ba28991"
          }
        },
        "d655ea590bdd46e2b94c50a638103d4c": {
          "model_module": "@jupyter-widgets/controls",
          "model_name": "HTMLModel",
          "state": {
            "_view_name": "HTMLView",
            "style": "IPY_MODEL_dc79998ef1cd4e97a2ea9efee28070d5",
            "_dom_classes": [],
            "description": "",
            "_model_name": "HTMLModel",
            "placeholder": "​",
            "_view_module": "@jupyter-widgets/controls",
            "_model_module_version": "1.5.0",
            "value": " 30/30 [01:08&lt;00:00,  2.86s/pipeline]",
            "_view_count": null,
            "_view_module_version": "1.5.0",
            "description_tooltip": null,
            "_model_module": "@jupyter-widgets/controls",
            "layout": "IPY_MODEL_15a017279a354eccba9b7ce79eb948fe"
          }
        },
        "3b1812efc71449cd8b334be476dfbc60": {
          "model_module": "@jupyter-widgets/controls",
          "model_name": "ProgressStyleModel",
          "state": {
            "_view_name": "StyleView",
            "_model_name": "ProgressStyleModel",
            "description_width": "initial",
            "_view_module": "@jupyter-widgets/base",
            "_model_module_version": "1.5.0",
            "_view_count": null,
            "_view_module_version": "1.2.0",
            "bar_color": null,
            "_model_module": "@jupyter-widgets/controls"
          }
        },
        "caa7eb3c90f44632a99cf88e7ba28991": {
          "model_module": "@jupyter-widgets/base",
          "model_name": "LayoutModel",
          "state": {
            "_view_name": "LayoutView",
            "grid_template_rows": null,
            "right": null,
            "justify_content": null,
            "_view_module": "@jupyter-widgets/base",
            "overflow": null,
            "_model_module_version": "1.2.0",
            "_view_count": null,
            "flex_flow": null,
            "width": null,
            "min_width": null,
            "border": null,
            "align_items": null,
            "bottom": null,
            "_model_module": "@jupyter-widgets/base",
            "top": null,
            "grid_column": null,
            "overflow_y": null,
            "overflow_x": null,
            "grid_auto_flow": null,
            "grid_area": null,
            "grid_template_columns": null,
            "flex": null,
            "_model_name": "LayoutModel",
            "justify_items": null,
            "grid_row": null,
            "max_height": null,
            "align_content": null,
            "visibility": null,
            "align_self": null,
            "height": null,
            "min_height": null,
            "padding": null,
            "grid_auto_rows": null,
            "grid_gap": null,
            "max_width": null,
            "order": null,
            "_view_module_version": "1.2.0",
            "grid_template_areas": null,
            "object_position": null,
            "object_fit": null,
            "grid_auto_columns": null,
            "margin": null,
            "display": null,
            "left": null
          }
        },
        "dc79998ef1cd4e97a2ea9efee28070d5": {
          "model_module": "@jupyter-widgets/controls",
          "model_name": "DescriptionStyleModel",
          "state": {
            "_view_name": "StyleView",
            "_model_name": "DescriptionStyleModel",
            "description_width": "",
            "_view_module": "@jupyter-widgets/base",
            "_model_module_version": "1.5.0",
            "_view_count": null,
            "_view_module_version": "1.2.0",
            "_model_module": "@jupyter-widgets/controls"
          }
        },
        "15a017279a354eccba9b7ce79eb948fe": {
          "model_module": "@jupyter-widgets/base",
          "model_name": "LayoutModel",
          "state": {
            "_view_name": "LayoutView",
            "grid_template_rows": null,
            "right": null,
            "justify_content": null,
            "_view_module": "@jupyter-widgets/base",
            "overflow": null,
            "_model_module_version": "1.2.0",
            "_view_count": null,
            "flex_flow": null,
            "width": null,
            "min_width": null,
            "border": null,
            "align_items": null,
            "bottom": null,
            "_model_module": "@jupyter-widgets/base",
            "top": null,
            "grid_column": null,
            "overflow_y": null,
            "overflow_x": null,
            "grid_auto_flow": null,
            "grid_area": null,
            "grid_template_columns": null,
            "flex": null,
            "_model_name": "LayoutModel",
            "justify_items": null,
            "grid_row": null,
            "max_height": null,
            "align_content": null,
            "visibility": null,
            "align_self": null,
            "height": null,
            "min_height": null,
            "padding": null,
            "grid_auto_rows": null,
            "grid_gap": null,
            "max_width": null,
            "order": null,
            "_view_module_version": "1.2.0",
            "grid_template_areas": null,
            "object_position": null,
            "object_fit": null,
            "grid_auto_columns": null,
            "margin": null,
            "display": null,
            "left": null
          }
        }
      }
    }
  },
  "cells": [
    {
      "cell_type": "markdown",
      "metadata": {
        "id": "view-in-github",
        "colab_type": "text"
      },
      "source": [
        "<a href=\"https://colab.research.google.com/github/narc01eptic/vmsk-2021/blob/main/ecg_analysis.ipynb\" target=\"_parent\"><img src=\"https://colab.research.google.com/assets/colab-badge.svg\" alt=\"Open In Colab\"/></a>"
      ]
    },
    {
      "cell_type": "markdown",
      "metadata": {
        "id": "56Kyg7dgdiOE"
      },
      "source": [
        "# Загрузка необходимых зависимостей и данных\n"
      ]
    },
    {
      "cell_type": "markdown",
      "metadata": {
        "id": "KHHbSm9e0Gzk"
      },
      "source": [
        "## Импорты"
      ]
    },
    {
      "cell_type": "code",
      "metadata": {
        "id": "wLs7VAVXJXal"
      },
      "source": [
        "!pip install joblib torch deap update_checker stopit xgboost tpot neurokit2 pyhrv"
      ],
      "execution_count": null,
      "outputs": []
    },
    {
      "cell_type": "code",
      "metadata": {
        "id": "UNQZhiPChR4d"
      },
      "source": [
        "import pandas as pd\n",
        "import numpy as np\n",
        "import pickle\n",
        "%matplotlib inline\n",
        "import matplotlib.pyplot as plt\n",
        "import neurokit2 as nk\n",
        "import pyhrv.frequency_domain as fd\n",
        "from tqdm.notebook import tqdm as tqdm\n",
        "from scipy import signal, stats\n",
        "from sklearn.model_selection import train_test_split"
      ],
      "execution_count": 409,
      "outputs": []
    },
    {
      "cell_type": "markdown",
      "metadata": {
        "id": "FuVkIl1q0KqD"
      },
      "source": [
        "## Данные"
      ]
    },
    {
      "cell_type": "markdown",
      "metadata": {
        "id": "aPSJSoesdkh0"
      },
      "source": [
        "ЭКГ пациентов"
      ]
    },
    {
      "cell_type": "code",
      "metadata": {
        "id": "Td2eOkAbdjiM"
      },
      "source": [
        "!mkdir /content/ecg\n",
        "!gdown -O /content/ecg/PX113190416115700_full_ch_1.txt https://drive.google.com/uc?id=17-TYDv3xGtL_0LXe_jjWjKFXqyaGfs6Q\n",
        "!gdown -O /content/ecg/PX113190529165727_full_ch_1.txt https://drive.google.com/uc?id=1vnYBjDMyuj-MH2MUTMpmc55-g3--_51n\n",
        "!gdown -O /content/ecg/PX458190315162821_full_ch_1.txt https://drive.google.com/uc?id=1WMprHbxzROm4ez9HiNnKRuyqcGTE3kDT"
      ],
      "execution_count": null,
      "outputs": []
    },
    {
      "cell_type": "code",
      "metadata": {
        "id": "19DfBCv5d23N"
      },
      "source": [
        "ecg_PX113190416115700 = \"/content/ecg/PX113190416115700_full_ch_1.txt\"\n",
        "ecg_PX113190529165727 = \"/content/ecg/PX113190529165727_full_ch_1.txt\"\n",
        "ecg_PX458190315162821 = \"/content/ecg/PX458190315162821_full_ch_1.txt\""
      ],
      "execution_count": 2,
      "outputs": []
    },
    {
      "cell_type": "markdown",
      "metadata": {
        "id": "gF519eaThqo1"
      },
      "source": [
        "Размеченные датасеты ЭКГ"
      ]
    },
    {
      "cell_type": "code",
      "metadata": {
        "id": "g6gTMgG7hs1_"
      },
      "source": [
        "!gdown -O /content/dataset/dataframe_hrv.csv https://drive.google.com/uc?id=1F7wSWg56mb2d57yfU5HZIYnX6V-gHkCB"
      ],
      "execution_count": null,
      "outputs": []
    },
    {
      "cell_type": "code",
      "metadata": {
        "id": "EdDct3DXMq0z"
      },
      "source": [
        "!gdown -O /content/dataset/dftest.csv https://drive.google.com/uc?id=1crRGacxqxTL_GxZ2XWu_Fx-oCxOQRmh3"
      ],
      "execution_count": null,
      "outputs": []
    },
    {
      "cell_type": "markdown",
      "metadata": {
        "id": "5BNykrTRd-qe"
      },
      "source": [
        "Классификатор"
      ]
    },
    {
      "cell_type": "code",
      "metadata": {
        "id": "X9TDs8CHehRV"
      },
      "source": [
        "!gdown -O /content/KNN_classifier.pickle https://drive.google.com/uc?id=1LBuLjdOrXCl2HEtBE-NfhgfH3fQlXBBd\n",
        "!gdown -O /content/KNN_classifier2.pickle https://drive.google.com/uc?id=1SYuQggBgBBDHtxme3oNVc-Vfc6t-LqOP"
      ],
      "execution_count": null,
      "outputs": []
    },
    {
      "cell_type": "code",
      "metadata": {
        "id": "2AGrtyhJhLX8"
      },
      "source": [
        "classifier = pickle.load(open(\"/content/KNN_classifier2.pickle\", 'rb'))\n",
        "classifier_old = pickle.load(open(\"/content/KNN_classifier.pickle\", 'rb'))"
      ],
      "execution_count": 46,
      "outputs": []
    },
    {
      "cell_type": "markdown",
      "metadata": {
        "id": "g7WdNTYgh0Om"
      },
      "source": [
        "# Обучение классификатора"
      ]
    },
    {
      "cell_type": "code",
      "metadata": {
        "id": "h89hFq1njz7d"
      },
      "source": [
        "def fix_stress_labels(df='',label_column='stress'):\n",
        "    df['stress'] = np.where(df['stress']>=0.5, 1, 0)\n",
        "    return df\n",
        "\n",
        "def missing_values(df, hr = False):\n",
        "    df = df.reset_index()\n",
        "    df = df.replace([np.inf, -np.inf], np.nan)\n",
        "    df[~np.isfinite(df)] = np.nan\n",
        "    if hr:\n",
        "      df['HR'].fillna((df['HR'].mean()), inplace=True)\n",
        "      df['HR'] = signal.medfilt(df['HR'],13) \n",
        "    df.fillna(df.mean(),inplace=True)\n",
        "    return df"
      ],
      "execution_count": 126,
      "outputs": []
    },
    {
      "cell_type": "code",
      "metadata": {
        "colab": {
          "base_uri": "https://localhost:8080/",
          "height": 309
        },
        "id": "TFCYU8RFh8J2",
        "outputId": "bc006734-9e84-4165-ea65-7997c03327ab"
      },
      "source": [
        "dataframe_hrv = pd.read_csv(\"/content/dataset/dataframe_hrv.csv\")\n",
        "dataframe_hrv = dataframe_hrv.reset_index(drop=True)\n",
        "dataframe_hrv = fix_stress_labels(df=dataframe_hrv)\n",
        "dataframe_hrv = missing_values(dataframe_hrv, True)\n",
        "dataframe_hrv.rename(columns={\"interval in seconds\": \"RR\"}, inplace = True)\n",
        "selected_x_columns = ['HR','RR','AVNN', 'RMSSD', 'pNN50', 'TP', 'ULF', 'VLF', 'LF', 'HF','LF_HF']\n",
        "\n",
        "dataframe_hrv.head()"
      ],
      "execution_count": 196,
      "outputs": [
        {
          "output_type": "execute_result",
          "data": {
            "text/html": [
              "<div>\n",
              "<style scoped>\n",
              "    .dataframe tbody tr th:only-of-type {\n",
              "        vertical-align: middle;\n",
              "    }\n",
              "\n",
              "    .dataframe tbody tr th {\n",
              "        vertical-align: top;\n",
              "    }\n",
              "\n",
              "    .dataframe thead th {\n",
              "        text-align: right;\n",
              "    }\n",
              "</style>\n",
              "<table border=\"1\" class=\"dataframe\">\n",
              "  <thead>\n",
              "    <tr style=\"text-align: right;\">\n",
              "      <th></th>\n",
              "      <th>index</th>\n",
              "      <th>ECG</th>\n",
              "      <th>EMG</th>\n",
              "      <th>HR</th>\n",
              "      <th>RESP</th>\n",
              "      <th>Seconds</th>\n",
              "      <th>footGSR</th>\n",
              "      <th>handGSR</th>\n",
              "      <th>RR</th>\n",
              "      <th>marker</th>\n",
              "      <th>newtime</th>\n",
              "      <th>stress</th>\n",
              "      <th>time</th>\n",
              "      <th>NNRR</th>\n",
              "      <th>AVNN</th>\n",
              "      <th>SDNN</th>\n",
              "      <th>RMSSD</th>\n",
              "      <th>pNN50</th>\n",
              "      <th>TP</th>\n",
              "      <th>ULF</th>\n",
              "      <th>VLF</th>\n",
              "      <th>LF</th>\n",
              "      <th>HF</th>\n",
              "      <th>LF_HF</th>\n",
              "    </tr>\n",
              "  </thead>\n",
              "  <tbody>\n",
              "    <tr>\n",
              "      <th>0</th>\n",
              "      <td>0</td>\n",
              "      <td>-0.001974</td>\n",
              "      <td>-0.004737</td>\n",
              "      <td>77.815789</td>\n",
              "      <td>10.801842</td>\n",
              "      <td>12.529684</td>\n",
              "      <td>2.417132</td>\n",
              "      <td>10.889447</td>\n",
              "      <td>0.614632</td>\n",
              "      <td>12.05703</td>\n",
              "      <td>12.529684</td>\n",
              "      <td>0</td>\n",
              "      <td>12.529684</td>\n",
              "      <td>0.973684</td>\n",
              "      <td>0.617297</td>\n",
              "      <td>3.558630e-02</td>\n",
              "      <td>0.015203</td>\n",
              "      <td>0.055556</td>\n",
              "      <td>0.001238</td>\n",
              "      <td>0.0</td>\n",
              "      <td>0.000696</td>\n",
              "      <td>0.000407</td>\n",
              "      <td>0.000135</td>\n",
              "      <td>3.002000</td>\n",
              "    </tr>\n",
              "    <tr>\n",
              "      <th>1</th>\n",
              "      <td>1</td>\n",
              "      <td>0.002935</td>\n",
              "      <td>-0.004457</td>\n",
              "      <td>79.521739</td>\n",
              "      <td>10.750609</td>\n",
              "      <td>30.503500</td>\n",
              "      <td>2.417109</td>\n",
              "      <td>11.251065</td>\n",
              "      <td>0.647826</td>\n",
              "      <td>12.05703</td>\n",
              "      <td>30.503500</td>\n",
              "      <td>0</td>\n",
              "      <td>30.503500</td>\n",
              "      <td>0.978261</td>\n",
              "      <td>0.647889</td>\n",
              "      <td>1.354660e-02</td>\n",
              "      <td>0.013858</td>\n",
              "      <td>0.045455</td>\n",
              "      <td>0.000144</td>\n",
              "      <td>0.0</td>\n",
              "      <td>0.000009</td>\n",
              "      <td>0.000060</td>\n",
              "      <td>0.000075</td>\n",
              "      <td>0.793710</td>\n",
              "    </tr>\n",
              "    <tr>\n",
              "      <th>2</th>\n",
              "      <td>2</td>\n",
              "      <td>0.006745</td>\n",
              "      <td>-0.003426</td>\n",
              "      <td>87.319149</td>\n",
              "      <td>10.557234</td>\n",
              "      <td>52.523021</td>\n",
              "      <td>2.226872</td>\n",
              "      <td>11.379638</td>\n",
              "      <td>0.646383</td>\n",
              "      <td>12.05703</td>\n",
              "      <td>52.523021</td>\n",
              "      <td>0</td>\n",
              "      <td>52.523021</td>\n",
              "      <td>0.978723</td>\n",
              "      <td>0.645000</td>\n",
              "      <td>2.240000e-08</td>\n",
              "      <td>0.000000</td>\n",
              "      <td>0.000000</td>\n",
              "      <td>0.060604</td>\n",
              "      <td>0.0</td>\n",
              "      <td>0.000728</td>\n",
              "      <td>0.000003</td>\n",
              "      <td>0.000001</td>\n",
              "      <td>3.555695</td>\n",
              "    </tr>\n",
              "    <tr>\n",
              "      <th>3</th>\n",
              "      <td>3</td>\n",
              "      <td>-0.004043</td>\n",
              "      <td>-0.002532</td>\n",
              "      <td>87.702128</td>\n",
              "      <td>10.640128</td>\n",
              "      <td>74.402170</td>\n",
              "      <td>2.173021</td>\n",
              "      <td>11.470830</td>\n",
              "      <td>0.645000</td>\n",
              "      <td>12.05703</td>\n",
              "      <td>74.402170</td>\n",
              "      <td>0</td>\n",
              "      <td>74.402170</td>\n",
              "      <td>0.978723</td>\n",
              "      <td>0.645000</td>\n",
              "      <td>2.240000e-08</td>\n",
              "      <td>0.000000</td>\n",
              "      <td>0.000000</td>\n",
              "      <td>0.060604</td>\n",
              "      <td>0.0</td>\n",
              "      <td>0.000728</td>\n",
              "      <td>0.000003</td>\n",
              "      <td>0.000001</td>\n",
              "      <td>3.555695</td>\n",
              "    </tr>\n",
              "    <tr>\n",
              "      <th>4</th>\n",
              "      <td>4</td>\n",
              "      <td>0.012745</td>\n",
              "      <td>-0.004426</td>\n",
              "      <td>87.702128</td>\n",
              "      <td>10.699319</td>\n",
              "      <td>96.219617</td>\n",
              "      <td>2.017106</td>\n",
              "      <td>11.135255</td>\n",
              "      <td>0.645000</td>\n",
              "      <td>12.05703</td>\n",
              "      <td>96.219617</td>\n",
              "      <td>0</td>\n",
              "      <td>96.219617</td>\n",
              "      <td>0.978723</td>\n",
              "      <td>0.645000</td>\n",
              "      <td>2.240000e-08</td>\n",
              "      <td>0.000000</td>\n",
              "      <td>0.000000</td>\n",
              "      <td>0.060604</td>\n",
              "      <td>0.0</td>\n",
              "      <td>0.000728</td>\n",
              "      <td>0.000003</td>\n",
              "      <td>0.000001</td>\n",
              "      <td>3.555695</td>\n",
              "    </tr>\n",
              "  </tbody>\n",
              "</table>\n",
              "</div>"
            ],
            "text/plain": [
              "   index       ECG       EMG         HR  ...       VLF        LF        HF     LF_HF\n",
              "0      0 -0.001974 -0.004737  77.815789  ...  0.000696  0.000407  0.000135  3.002000\n",
              "1      1  0.002935 -0.004457  79.521739  ...  0.000009  0.000060  0.000075  0.793710\n",
              "2      2  0.006745 -0.003426  87.319149  ...  0.000728  0.000003  0.000001  3.555695\n",
              "3      3 -0.004043 -0.002532  87.702128  ...  0.000728  0.000003  0.000001  3.555695\n",
              "4      4  0.012745 -0.004426  87.702128  ...  0.000728  0.000003  0.000001  3.555695\n",
              "\n",
              "[5 rows x 24 columns]"
            ]
          },
          "metadata": {
            "tags": []
          },
          "execution_count": 196
        }
      ]
    },
    {
      "cell_type": "code",
      "metadata": {
        "id": "iZBsqS_ewQ7e"
      },
      "source": [
        "X = dataframe_hrv[selected_x_columns]\n",
        "y = dataframe_hrv['stress']\n",
        "X_train, X_test, y_train, y_test = train_test_split(X, y, test_size=0.20, random_state = 1)"
      ],
      "execution_count": 197,
      "outputs": []
    },
    {
      "cell_type": "code",
      "metadata": {
        "colab": {
          "base_uri": "https://localhost:8080/",
          "height": 258,
          "referenced_widgets": [
            "f15961ca050d4fee9dc31739dce03d7d",
            "d7122748481d40009387d68c9e390f6f",
            "dcdc43e1aab9429cac59b62e5d829047",
            "d655ea590bdd46e2b94c50a638103d4c",
            "3b1812efc71449cd8b334be476dfbc60",
            "caa7eb3c90f44632a99cf88e7ba28991",
            "dc79998ef1cd4e97a2ea9efee28070d5",
            "15a017279a354eccba9b7ce79eb948fe"
          ]
        },
        "id": "p9dXNXwm3upG",
        "outputId": "cd76604a-752e-436e-acda-122fc25a14fd"
      },
      "source": [
        "from tpot import TPOTClassifier\n",
        "def do_tpot(generations=10, population_size=10, X='', y=''):\n",
        "\n",
        "    X_train, X_test, y_train, y_test = train_test_split(X, y, test_size=0.20, random_state=1)\n",
        "\n",
        "    tpot = TPOTClassifier(generations=generations, population_size=population_size, verbosity=2,cv=3)\n",
        "    tpot.fit(X_train, y_train)\n",
        "    print(tpot.score(X_test, y_test))\n",
        "    tpot.export('tpot_pipeline.py')\n",
        "    return tpot\n",
        "\n",
        "tpot_classifer = do_tpot(generations=5, population_size=5, X=X, y=y)"
      ],
      "execution_count": 198,
      "outputs": [
        {
          "output_type": "display_data",
          "data": {
            "application/vnd.jupyter.widget-view+json": {
              "model_id": "f15961ca050d4fee9dc31739dce03d7d",
              "version_minor": 0,
              "version_major": 2
            },
            "text/plain": [
              "HBox(children=(FloatProgress(value=0.0, description='Optimization Progress', max=30.0, style=ProgressStyle(des…"
            ]
          },
          "metadata": {
            "tags": []
          }
        },
        {
          "output_type": "stream",
          "text": [
            "\r\n",
            "Generation 1 - Current best internal CV score: 0.8486224644262791\n",
            "\n",
            "Generation 2 - Current best internal CV score: 0.8489252194974265\n",
            "\n",
            "Generation 3 - Current best internal CV score: 0.8531637904934909\n",
            "\n",
            "Generation 4 - Current best internal CV score: 0.8546775658492279\n",
            "\n",
            "Generation 5 - Current best internal CV score: 0.8607326672721768\n",
            "\n",
            "Best pipeline: RandomForestClassifier(Normalizer(input_matrix, norm=l1), bootstrap=False, criterion=gini, max_features=0.6500000000000001, min_samples_leaf=4, min_samples_split=9, n_estimators=100)\n",
            "0.8837772397094431\n"
          ],
          "name": "stdout"
        }
      ]
    },
    {
      "cell_type": "code",
      "metadata": {
        "id": "H3ORJ7LV_pGY"
      },
      "source": [
        "!mkdir /content/train"
      ],
      "execution_count": 200,
      "outputs": []
    },
    {
      "cell_type": "code",
      "metadata": {
        "id": "Gdg8Yf7Q_LVr"
      },
      "source": [
        "pickle.dump(tpot_classifer.fitted_pipeline_, open(\"/content/train/RF_classifier.pickle\", 'wb'))"
      ],
      "execution_count": 201,
      "outputs": []
    },
    {
      "cell_type": "markdown",
      "metadata": {
        "id": "kio2XS1swxOZ"
      },
      "source": [
        "# Проверка на тестовом датасете"
      ]
    },
    {
      "cell_type": "markdown",
      "metadata": {
        "id": "KKL4E_Quyq-F"
      },
      "source": [
        "## Функции обработки сигнала"
      ]
    },
    {
      "cell_type": "code",
      "metadata": {
        "id": "swY4l7ofwwxC"
      },
      "source": [
        "def plotReading(dfnewHRV, dfpred, title = None):\n",
        "    dfnewHRV[\"stress\"] = dfpred[\"stress\"]\n",
        "    # dfnewHRV.loc[dfnewHRV[\"steps\"] > 0, 'stress'] = np.nan\n",
        "    #mark is to mark the RR peaks as stress\n",
        "    dfnewHRV.loc[dfnewHRV[\"stress\"] == 1, 'stress'] = dfnewHRV['RR'] \n",
        "    # dfnewHRV.loc[dfnewHRV[\"steps\"] > 0, 'moving'] = dfnewHRV['interval in seconds'] \n",
        "    dfnewHRV[\"minutes\"] = (dfnewHRV['newtime']/60)/1000\n",
        "    \n",
        "    from itertools import cycle, islice\n",
        "    my_colors = list(islice(['b', 'r'], 0, len(dfnewHRV)))\n",
        "    plot = dfnewHRV.plot(x=\"minutes\", y=['RR',\"stress\"],color=my_colors,figsize=(13, 7), title = title)"
      ],
      "execution_count": 156,
      "outputs": []
    },
    {
      "cell_type": "code",
      "metadata": {
        "id": "TB1TQ2HN2xde"
      },
      "source": [
        "def runClassifier(df, predictor, selected_x_columns):\n",
        "  df = missing_values(df)\n",
        "  dfnew = df[selected_x_columns].fillna(0)\n",
        "  pred = predictor.predict_proba(dfnew)\n",
        "  dfpred = pd.DataFrame(pred)\n",
        "  dfpred.columns = [\"FALSE\",\"TRUE\"]\n",
        "  dfpred['stress'] = np.array(np.where(dfpred[\"TRUE\"] > 0.5, 1, np.nan))\n",
        "\n",
        "  return dfpred"
      ],
      "execution_count": 98,
      "outputs": []
    },
    {
      "cell_type": "code",
      "metadata": {
        "id": "lD4IY0wqUvso"
      },
      "source": [
        "def runAlgorithm(df, selected_x_columns):\n",
        "  df = missing_values(df)\n",
        "  dfnew = df[selected_x_columns].fillna(0)\n",
        "  stress = []\n",
        "  for index, row in dfnew.iterrows():\n",
        "    s = 0\n",
        "    if not (60 < row[\"HR\"] < 90): s += 1\n",
        "    if not (568 < row[\"HF\"] < 768) and (row[\"HF\"] != 0.): s += 1\n",
        "    if not (995 < row[\"LF\"] < 1345) and (row[\"LF\"] != 0.): s += 1\n",
        "    if not (1077 < row[\"VLF\"] < 1458) and (row[\"VLF\"] != 0.): s += 1\n",
        "    if not (2640 < row[\"TP\"] * 1E6 < 3571): s += 1\n",
        "    if not (1.5 < row[\"LF_HF\"] < 1.8) and (row[\"LF_HF\"] != 0.): s += 1\n",
        "    if s >= 2: stress.append(1)\n",
        "    else: stress.append(np.nan)\n",
        "\n",
        "  dfpred = pd.DataFrame(stress, columns = [\"stress\"])\n",
        "  return dfpred"
      ],
      "execution_count": 151,
      "outputs": []
    },
    {
      "cell_type": "markdown",
      "metadata": {
        "id": "wwPtZzZmy-gw"
      },
      "source": [
        "## Загрузка и анализ сигнала"
      ]
    },
    {
      "cell_type": "code",
      "metadata": {
        "id": "mh40gQXwNmNC"
      },
      "source": [
        "input_df = pd.read_csv('/content/dataset/dftest.csv')\n",
        "input_df.rename(columns={\"interval in seconds\": \"RR\"}, inplace = True)"
      ],
      "execution_count": 157,
      "outputs": []
    },
    {
      "cell_type": "code",
      "metadata": {
        "colab": {
          "base_uri": "https://localhost:8080/",
          "height": 224
        },
        "id": "5W2G4ivFd_Kh",
        "outputId": "7bd6e7f3-9fd5-4998-910e-dcd0cfdd6ca4"
      },
      "source": [
        "input_df.head()"
      ],
      "execution_count": 158,
      "outputs": [
        {
          "output_type": "execute_result",
          "data": {
            "text/html": [
              "<div>\n",
              "<style scoped>\n",
              "    .dataframe tbody tr th:only-of-type {\n",
              "        vertical-align: middle;\n",
              "    }\n",
              "\n",
              "    .dataframe tbody tr th {\n",
              "        vertical-align: top;\n",
              "    }\n",
              "\n",
              "    .dataframe thead th {\n",
              "        text-align: right;\n",
              "    }\n",
              "</style>\n",
              "<table border=\"1\" class=\"dataframe\">\n",
              "  <thead>\n",
              "    <tr style=\"text-align: right;\">\n",
              "      <th></th>\n",
              "      <th>calories</th>\n",
              "      <th>distance</th>\n",
              "      <th>floors</th>\n",
              "      <th>heart</th>\n",
              "      <th>RR</th>\n",
              "      <th>newtime</th>\n",
              "      <th>nntime</th>\n",
              "      <th>rrmedfilt</th>\n",
              "      <th>steps</th>\n",
              "      <th>NNRR</th>\n",
              "      <th>AVNN</th>\n",
              "      <th>SDNN</th>\n",
              "      <th>RMSSD</th>\n",
              "      <th>pNN50</th>\n",
              "      <th>TP</th>\n",
              "      <th>ULF</th>\n",
              "      <th>VLF</th>\n",
              "      <th>LF</th>\n",
              "      <th>HF</th>\n",
              "      <th>LF_HF</th>\n",
              "      <th>HR</th>\n",
              "    </tr>\n",
              "  </thead>\n",
              "  <tbody>\n",
              "    <tr>\n",
              "      <th>0</th>\n",
              "      <td>1.260461</td>\n",
              "      <td>0.0</td>\n",
              "      <td>0.0</td>\n",
              "      <td>62.333333</td>\n",
              "      <td>0.942926</td>\n",
              "      <td>11926.370370</td>\n",
              "      <td>11926.370370</td>\n",
              "      <td>931.407407</td>\n",
              "      <td>0.0</td>\n",
              "      <td>0.962963</td>\n",
              "      <td>0.941846</td>\n",
              "      <td>0.104229</td>\n",
              "      <td>0.104013</td>\n",
              "      <td>0.400000</td>\n",
              "      <td>0.011699</td>\n",
              "      <td>0.011699</td>\n",
              "      <td>0.0</td>\n",
              "      <td>0.0</td>\n",
              "      <td>0.0</td>\n",
              "      <td>NaN</td>\n",
              "      <td>62.333333</td>\n",
              "    </tr>\n",
              "    <tr>\n",
              "      <th>1</th>\n",
              "      <td>1.198738</td>\n",
              "      <td>0.0</td>\n",
              "      <td>0.0</td>\n",
              "      <td>60.750000</td>\n",
              "      <td>0.956667</td>\n",
              "      <td>27722.277778</td>\n",
              "      <td>27722.277778</td>\n",
              "      <td>953.388889</td>\n",
              "      <td>0.0</td>\n",
              "      <td>0.972222</td>\n",
              "      <td>0.960771</td>\n",
              "      <td>0.088014</td>\n",
              "      <td>0.083233</td>\n",
              "      <td>0.411765</td>\n",
              "      <td>0.007722</td>\n",
              "      <td>0.007722</td>\n",
              "      <td>0.0</td>\n",
              "      <td>0.0</td>\n",
              "      <td>0.0</td>\n",
              "      <td>NaN</td>\n",
              "      <td>60.750000</td>\n",
              "    </tr>\n",
              "    <tr>\n",
              "      <th>2</th>\n",
              "      <td>1.169500</td>\n",
              "      <td>0.0</td>\n",
              "      <td>0.0</td>\n",
              "      <td>60.000000</td>\n",
              "      <td>0.949189</td>\n",
              "      <td>48151.297297</td>\n",
              "      <td>48151.297297</td>\n",
              "      <td>942.216216</td>\n",
              "      <td>0.0</td>\n",
              "      <td>0.972973</td>\n",
              "      <td>0.949556</td>\n",
              "      <td>0.086657</td>\n",
              "      <td>0.077849</td>\n",
              "      <td>0.457143</td>\n",
              "      <td>0.007349</td>\n",
              "      <td>0.007349</td>\n",
              "      <td>0.0</td>\n",
              "      <td>0.0</td>\n",
              "      <td>0.0</td>\n",
              "      <td>NaN</td>\n",
              "      <td>60.000000</td>\n",
              "    </tr>\n",
              "    <tr>\n",
              "      <th>3</th>\n",
              "      <td>1.169500</td>\n",
              "      <td>0.0</td>\n",
              "      <td>0.0</td>\n",
              "      <td>60.444444</td>\n",
              "      <td>0.980806</td>\n",
              "      <td>68824.527778</td>\n",
              "      <td>68824.527778</td>\n",
              "      <td>971.638889</td>\n",
              "      <td>0.0</td>\n",
              "      <td>0.972222</td>\n",
              "      <td>0.981400</td>\n",
              "      <td>0.051475</td>\n",
              "      <td>0.053796</td>\n",
              "      <td>0.352941</td>\n",
              "      <td>0.002538</td>\n",
              "      <td>0.002538</td>\n",
              "      <td>0.0</td>\n",
              "      <td>0.0</td>\n",
              "      <td>0.0</td>\n",
              "      <td>NaN</td>\n",
              "      <td>60.444444</td>\n",
              "    </tr>\n",
              "    <tr>\n",
              "      <th>4</th>\n",
              "      <td>1.169500</td>\n",
              "      <td>0.0</td>\n",
              "      <td>0.0</td>\n",
              "      <td>61.611111</td>\n",
              "      <td>0.980944</td>\n",
              "      <td>89413.305556</td>\n",
              "      <td>89413.305556</td>\n",
              "      <td>974.638889</td>\n",
              "      <td>0.0</td>\n",
              "      <td>0.972222</td>\n",
              "      <td>0.979857</td>\n",
              "      <td>0.052628</td>\n",
              "      <td>0.050855</td>\n",
              "      <td>0.264706</td>\n",
              "      <td>0.002618</td>\n",
              "      <td>0.002618</td>\n",
              "      <td>0.0</td>\n",
              "      <td>0.0</td>\n",
              "      <td>0.0</td>\n",
              "      <td>NaN</td>\n",
              "      <td>61.611111</td>\n",
              "    </tr>\n",
              "  </tbody>\n",
              "</table>\n",
              "</div>"
            ],
            "text/plain": [
              "   calories  distance  floors      heart  ...   LF   HF  LF_HF         HR\n",
              "0  1.260461       0.0     0.0  62.333333  ...  0.0  0.0    NaN  62.333333\n",
              "1  1.198738       0.0     0.0  60.750000  ...  0.0  0.0    NaN  60.750000\n",
              "2  1.169500       0.0     0.0  60.000000  ...  0.0  0.0    NaN  60.000000\n",
              "3  1.169500       0.0     0.0  60.444444  ...  0.0  0.0    NaN  60.444444\n",
              "4  1.169500       0.0     0.0  61.611111  ...  0.0  0.0    NaN  61.611111\n",
              "\n",
              "[5 rows x 21 columns]"
            ]
          },
          "metadata": {
            "tags": []
          },
          "execution_count": 158
        }
      ]
    },
    {
      "cell_type": "code",
      "metadata": {
        "id": "wsAZhw5z3WaR"
      },
      "source": [
        "selected_x_columns = ['HR','RR','AVNN', 'RMSSD', 'pNN50', 'TP', 'ULF', 'VLF', 'LF', 'HF','LF_HF']\n",
        "dfpredClassifier = runClassifier(input_df, classifier, selected_x_columns)"
      ],
      "execution_count": 159,
      "outputs": []
    },
    {
      "cell_type": "code",
      "metadata": {
        "colab": {
          "base_uri": "https://localhost:8080/",
          "height": 459
        },
        "id": "4Jps-Jtl2jxc",
        "outputId": "7ae377c9-3011-43d7-8fb6-ec012c06e62c"
      },
      "source": [
        "plotReading(input_df, dfpredClassifier, \"График обнаружения стресса классификатором\")"
      ],
      "execution_count": 161,
      "outputs": [
        {
          "output_type": "display_data",
          "data": {
            "image/png": "[encoded data removed]",
            "text/plain": [
              "<Figure size 936x504 with 1 Axes>"
            ]
          },
          "metadata": {
            "tags": [],
            "needs_background": "light"
          }
        }
      ]
    },
    {
      "cell_type": "code",
      "metadata": {
        "id": "6g-Qz8Wcl80f"
      },
      "source": [
        "selected_x_columns = ['HR','RR','AVNN', 'RMSSD', 'pNN50', 'TP', 'ULF', 'VLF', 'LF', 'HF','LF_HF']\n",
        "dfpredAlgorithm = runAlgorithm(input_df, selected_x_columns)"
      ],
      "execution_count": 154,
      "outputs": []
    },
    {
      "cell_type": "code",
      "metadata": {
        "colab": {
          "base_uri": "https://localhost:8080/",
          "height": 459
        },
        "id": "ss2uXP5FrMZP",
        "outputId": "a8a0cde7-5675-4ce2-9bfa-c328871488fc"
      },
      "source": [
        "plotReading(input_df, dfpredAlgorithm, \"График обнаружения стресса пороговым алгоритмом\")"
      ],
      "execution_count": 162,
      "outputs": [
        {
          "output_type": "display_data",
          "data": {
            "image/png": "[encoded data removed]",
            "text/plain": [
              "<Figure size 936x504 with 1 Axes>"
            ]
          },
          "metadata": {
            "tags": [],
            "needs_background": "light"
          }
        }
      ]
    },
    {
      "cell_type": "markdown",
      "metadata": {
        "id": "MG6zEBQNzwig"
      },
      "source": [
        "# Проверка на других датасетах"
      ]
    },
    {
      "cell_type": "markdown",
      "metadata": {
        "id": "7UmzLYuJ3y7P"
      },
      "source": [
        "## Функции обработки сигнала"
      ]
    },
    {
      "cell_type": "code",
      "metadata": {
        "id": "2AZNBqRmkYhj"
      },
      "source": [
        "def plotCustomReading(dfnewHRV, dfpred, title = None):\n",
        "    dfnewHRV[\"stress\"] = dfpred[\"stress\"]\n",
        "    # dfnewHRV.loc[dfnewHRV[\"steps\"] > 0, 'stress'] = np.nan\n",
        "    #mark is to mark the RR peaks as stress\n",
        "    dfnewHRV.loc[dfnewHRV[\"stress\"] == 1, 'stress'] = dfnewHRV['RR'] \n",
        "    # dfnewHRV.loc[dfnewHRV[\"steps\"] > 0, 'moving'] = dfnewHRV['interval in seconds'] \n",
        "    dfnewHRV[\"minutes\"] = (dfnewHRV['newtime']/60)\n",
        "    \n",
        "    from itertools import cycle, islice\n",
        "    my_colors = list(islice(['b', 'r'], 0, len(dfnewHRV)))\n",
        "    plot = dfnewHRV.plot(x=\"minutes\", y=['RR',\"stress\"],color=my_colors,figsize=(13, 7), title = title)"
      ],
      "execution_count": 402,
      "outputs": []
    },
    {
      "cell_type": "code",
      "metadata": {
        "id": "Ugv1wk0SmgaD"
      },
      "source": [
        "def runAlgorithmCustom(df, selected_x_columns):\n",
        "  selected_x_columns = [*selected_x_columns, \"BSI\"]\n",
        "  df = missing_values(df)\n",
        "  dfnew = df[selected_x_columns].fillna(0)\n",
        "  stress = []\n",
        "  for index, row in dfnew.iterrows():\n",
        "    s = 0\n",
        "    if not (60 < row[\"HR\"] < 90): s += 1\n",
        "    if not (30 < row[\"BSI\"] < 160): s += 1\n",
        "    if not (568 < row[\"HF\"]*1000 < 768) and (row[\"HF\"] != 0.): s += 0.5\n",
        "    if not (995 < row[\"LF\"]*1000 < 1345) and (row[\"LF\"] != 0.): s += 0.5\n",
        "    if not (1077 < row[\"VLF\"]*1000 < 1458) and (row[\"VLF\"] != 0.): s += 0.5\n",
        "    if not (2640 < row[\"TP\"] * 1E6 < 3571): s += 1\n",
        "    if not (1.5 < row[\"LF_HF\"] < 1.8) and (row[\"LF_HF\"] != 0.): s += 1\n",
        "    if s >= 4: stress.append(1)\n",
        "    else: stress.append(np.nan)\n",
        "  dfpred = pd.DataFrame(stress, columns = [\"stress\"])\n",
        "  return dfpred"
      ],
      "execution_count": 530,
      "outputs": []
    },
    {
      "cell_type": "markdown",
      "metadata": {
        "id": "IhVOklrl3_po"
      },
      "source": [
        "## Загрузка и анализ сигнала"
      ]
    },
    {
      "cell_type": "code",
      "metadata": {
        "id": "1eVWyddd4iec"
      },
      "source": [
        "with open(ecg_PX113190529165727) as f:\n",
        "    ecg = [float(line.strip()) for line in f.readlines()]"
      ],
      "execution_count": null,
      "outputs": []
    },
    {
      "cell_type": "code",
      "metadata": {
        "id": "Qhx4UUO5z3Cy"
      },
      "source": [
        "import math\n",
        "fs = 250\n",
        "sec = 12.5\n",
        "tot = 75 * 60\n",
        "w = int(fs*sec)\n",
        "ecg_part = []\n",
        "n_w = int(math.ceil(len(ecg) / w))\n",
        "n_take = round(tot / sec)"
      ],
      "execution_count": 437,
      "outputs": []
    },
    {
      "cell_type": "code",
      "metadata": {
        "id": "Ze62kE9-39ad"
      },
      "source": [
        "ecg_part = [ecg[x:x+w] for x in range(0, n_take * w, w)]"
      ],
      "execution_count": 438,
      "outputs": []
    },
    {
      "cell_type": "code",
      "metadata": {
        "id": "osqFzIxu5VqT"
      },
      "source": [
        "%%capture\n",
        "params = {key: list() for key in [*selected_x_columns, \"newtime\", \"BSI\"]}\n",
        "selected_x_columns = ['HR','RR','AVNN', 'RMSSD', 'pNN50', 'TP', 'ULF', 'VLF', 'LF', 'HF','LF_HF']\n",
        "for i, part in enumerate(tqdm(ecg_part)):\n",
        "  ecg_clean = nk.ecg_clean(part, sampling_rate=fs, method=\"neurokit\")\n",
        "  peaks, info = nk.ecg_peaks(part, sampling_rate=fs, correct_artifacts=True)\n",
        "  hrv_time = nk.hrv_time(peaks, sampling_rate=fs, show=False)\n",
        "  if i > 0 and i % 10 == 0:\n",
        "    large_part = [el for l in ecg_part[i-10:i] for el in l]\n",
        "    peaks2, info2 = nk.ecg_peaks(large_part, sampling_rate=fs, correct_artifacts=True)\n",
        "    hrv_freq2 = nk.hrv_frequency(peaks2, sampling_rate=fs, show=False)\n",
        "    fdresult2 = fd.welch_psd(rpeaks=info2[\"ECG_R_Peaks\"] / fs)\n",
        "    params[\"TP\"].append(fdresult2[\"fft_total\"] / 1E6)\n",
        "    params[\"ULF\"].append(hrv_freq2[\"HRV_ULF\"].values[0])\n",
        "    params[\"VLF\"].append(hrv_freq2[\"HRV_VHF\"].values[0])\n",
        "    params[\"LF\"].append(hrv_freq2[\"HRV_LF\"].values[0])\n",
        "    params[\"HF\"].append(hrv_freq2[\"HRV_HF\"].values[0])\n",
        "    params[\"LF_HF\"].append(hrv_freq2[\"HRV_LFHF\"].values[0])\n",
        "    \n",
        "  ppi = info[\"ECG_R_Peaks\"][1:]\n",
        "  ppi = np.subtract(ppi, info[\"ECG_R_Peaks\"][:-1])\n",
        "  ppi = np.array(ppi) / fs \n",
        "  rr_max = ppi.max()\n",
        "  rr_min = ppi.min()\n",
        "  drr = rr_max - rr_min\n",
        "  m = stats.mode(ppi)\n",
        "  Mo, AMo = m[0][0], m[1][0]\n",
        "  AMo_percent = (AMo / len(ppi))*100\n",
        "  BSI = round(AMo_percent / (2 * Mo * drr))\n",
        "  params[\"HR\"].append(60 / hrv_time[\"HRV_MeanNN\"].values[0] * 1000)\n",
        "  params[\"RR\"].append(Mo)\n",
        "  params[\"AVNN\"].append(hrv_time[\"HRV_MeanNN\"].values[0] / 1000)\n",
        "  params[\"RMSSD\"].append(hrv_time[\"HRV_RMSSD\"].values[0] / 1000)\n",
        "  params[\"pNN50\"].append(hrv_time[\"HRV_pNN50\"].values[0] / 1000)\n",
        "  params[\"BSI\"].append(BSI)\n",
        "  params[\"newtime\"].append(i * sec)\n",
        "params[\"TP\"] = np.resize(np.repeat(params[\"TP\"], 11), len(params[\"BSI\"]))\n",
        "params[\"ULF\"] = np.resize(np.repeat(params[\"ULF\"], 11), len(params[\"BSI\"]))\n",
        "params[\"VLF\"] = np.resize(np.repeat(params[\"VLF\"], 11), len(params[\"BSI\"]))\n",
        "params[\"LF\"] = np.resize(np.repeat(params[\"LF\"], 11), len(params[\"BSI\"]))\n",
        "params[\"HF\"] = np.resize(np.repeat(params[\"HF\"], 11), len(params[\"BSI\"]))\n",
        "params[\"LF_HF\"] = np.resize(np.repeat(params[\"LF_HF\"], 11), len(params[\"BSI\"]))"
      ],
      "execution_count": 471,
      "outputs": []
    },
    {
      "cell_type": "code",
      "metadata": {
        "id": "rFx7-WoTaWXM"
      },
      "source": [
        "df1 = pd.DataFrame(params)"
      ],
      "execution_count": 472,
      "outputs": []
    },
    {
      "cell_type": "code",
      "metadata": {
        "colab": {
          "base_uri": "https://localhost:8080/",
          "height": 204
        },
        "id": "YdCghnJ9oe-N",
        "outputId": "8dd58875-506f-4ef6-fe38-005e4ffe2e6f"
      },
      "source": [
        "df1.head()"
      ],
      "execution_count": 473,
      "outputs": [
        {
          "output_type": "execute_result",
          "data": {
            "text/html": [
              "<div>\n",
              "<style scoped>\n",
              "    .dataframe tbody tr th:only-of-type {\n",
              "        vertical-align: middle;\n",
              "    }\n",
              "\n",
              "    .dataframe tbody tr th {\n",
              "        vertical-align: top;\n",
              "    }\n",
              "\n",
              "    .dataframe thead th {\n",
              "        text-align: right;\n",
              "    }\n",
              "</style>\n",
              "<table border=\"1\" class=\"dataframe\">\n",
              "  <thead>\n",
              "    <tr style=\"text-align: right;\">\n",
              "      <th></th>\n",
              "      <th>HR</th>\n",
              "      <th>RR</th>\n",
              "      <th>AVNN</th>\n",
              "      <th>RMSSD</th>\n",
              "      <th>pNN50</th>\n",
              "      <th>TP</th>\n",
              "      <th>ULF</th>\n",
              "      <th>VLF</th>\n",
              "      <th>LF</th>\n",
              "      <th>HF</th>\n",
              "      <th>LF_HF</th>\n",
              "      <th>newtime</th>\n",
              "      <th>BSI</th>\n",
              "    </tr>\n",
              "  </thead>\n",
              "  <tbody>\n",
              "    <tr>\n",
              "      <th>0</th>\n",
              "      <td>86.642599</td>\n",
              "      <td>0.540</td>\n",
              "      <td>0.692500</td>\n",
              "      <td>0.152543</td>\n",
              "      <td>0.081250</td>\n",
              "      <td>0.018068</td>\n",
              "      <td>NaN</td>\n",
              "      <td>0.01482</td>\n",
              "      <td>0.076531</td>\n",
              "      <td>0.079783</td>\n",
              "      <td>0.959238</td>\n",
              "      <td>0.0</td>\n",
              "      <td>16</td>\n",
              "    </tr>\n",
              "    <tr>\n",
              "      <th>1</th>\n",
              "      <td>79.787234</td>\n",
              "      <td>0.524</td>\n",
              "      <td>0.752000</td>\n",
              "      <td>0.196512</td>\n",
              "      <td>0.080000</td>\n",
              "      <td>0.018068</td>\n",
              "      <td>NaN</td>\n",
              "      <td>0.01482</td>\n",
              "      <td>0.076531</td>\n",
              "      <td>0.079783</td>\n",
              "      <td>0.959238</td>\n",
              "      <td>12.5</td>\n",
              "      <td>12</td>\n",
              "    </tr>\n",
              "    <tr>\n",
              "      <th>2</th>\n",
              "      <td>91.038915</td>\n",
              "      <td>0.620</td>\n",
              "      <td>0.659059</td>\n",
              "      <td>0.159283</td>\n",
              "      <td>0.082353</td>\n",
              "      <td>0.018068</td>\n",
              "      <td>NaN</td>\n",
              "      <td>0.01482</td>\n",
              "      <td>0.076531</td>\n",
              "      <td>0.079783</td>\n",
              "      <td>0.959238</td>\n",
              "      <td>25.0</td>\n",
              "      <td>41</td>\n",
              "    </tr>\n",
              "    <tr>\n",
              "      <th>3</th>\n",
              "      <td>78.479247</td>\n",
              "      <td>0.756</td>\n",
              "      <td>0.764533</td>\n",
              "      <td>0.179574</td>\n",
              "      <td>0.080000</td>\n",
              "      <td>0.018068</td>\n",
              "      <td>NaN</td>\n",
              "      <td>0.01482</td>\n",
              "      <td>0.076531</td>\n",
              "      <td>0.079783</td>\n",
              "      <td>0.959238</td>\n",
              "      <td>37.5</td>\n",
              "      <td>18</td>\n",
              "    </tr>\n",
              "    <tr>\n",
              "      <th>4</th>\n",
              "      <td>77.028415</td>\n",
              "      <td>0.624</td>\n",
              "      <td>0.778933</td>\n",
              "      <td>0.320286</td>\n",
              "      <td>0.073333</td>\n",
              "      <td>0.018068</td>\n",
              "      <td>NaN</td>\n",
              "      <td>0.01482</td>\n",
              "      <td>0.076531</td>\n",
              "      <td>0.079783</td>\n",
              "      <td>0.959238</td>\n",
              "      <td>50.0</td>\n",
              "      <td>23</td>\n",
              "    </tr>\n",
              "  </tbody>\n",
              "</table>\n",
              "</div>"
            ],
            "text/plain": [
              "          HR     RR      AVNN     RMSSD  ...        HF     LF_HF  newtime  BSI\n",
              "0  86.642599  0.540  0.692500  0.152543  ...  0.079783  0.959238      0.0   16\n",
              "1  79.787234  0.524  0.752000  0.196512  ...  0.079783  0.959238     12.5   12\n",
              "2  91.038915  0.620  0.659059  0.159283  ...  0.079783  0.959238     25.0   41\n",
              "3  78.479247  0.756  0.764533  0.179574  ...  0.079783  0.959238     37.5   18\n",
              "4  77.028415  0.624  0.778933  0.320286  ...  0.079783  0.959238     50.0   23\n",
              "\n",
              "[5 rows x 13 columns]"
            ]
          },
          "metadata": {
            "tags": []
          },
          "execution_count": 473
        }
      ]
    },
    {
      "cell_type": "code",
      "metadata": {
        "id": "9aN97xjikI7t"
      },
      "source": [
        "dfpredClassifier = runClassifier(df1, classifier, selected_x_columns)"
      ],
      "execution_count": 492,
      "outputs": []
    },
    {
      "cell_type": "code",
      "metadata": {
        "colab": {
          "base_uri": "https://localhost:8080/",
          "height": 459
        },
        "id": "hMGxSymlkMqJ",
        "outputId": "c480d7df-5f86-445d-f4cf-1282480a76f0"
      },
      "source": [
        "plotCustomReading(df1, dfpredClassifier, \"График обнаружения стресса классификатором\")"
      ],
      "execution_count": 493,
      "outputs": [
        {
          "output_type": "display_data",
          "data": {
            "image/png": "[encoded data removed]",
            "text/plain": [
              "<Figure size 936x504 with 1 Axes>"
            ]
          },
          "metadata": {
            "tags": [],
            "needs_background": "light"
          }
        }
      ]
    },
    {
      "cell_type": "code",
      "metadata": {
        "id": "sGB81wZty20H"
      },
      "source": [
        "dfpredAlgorithm = runAlgorithmCustom(df1, selected_x_columns)"
      ],
      "execution_count": 528,
      "outputs": []
    },
    {
      "cell_type": "code",
      "metadata": {
        "colab": {
          "base_uri": "https://localhost:8080/",
          "height": 459
        },
        "id": "qNUCW3wfzJFq",
        "outputId": "e6aec520-ba3a-41dc-8bcd-cbfa20b9c122"
      },
      "source": [
        "plotCustomReading(df1, dfpredAlgorithm, \"График обнаружения стресса пороговым алгоритмом\")"
      ],
      "execution_count": 531,
      "outputs": [
        {
          "output_type": "display_data",
          "data": {
            "image/png": "[encoded data removed]",
            "text/plain": [
              "<Figure size 936x504 with 1 Axes>"
            ]
          },
          "metadata": {
            "tags": [],
            "needs_background": "light"
          }
        }
      ]
    }
  ]
}